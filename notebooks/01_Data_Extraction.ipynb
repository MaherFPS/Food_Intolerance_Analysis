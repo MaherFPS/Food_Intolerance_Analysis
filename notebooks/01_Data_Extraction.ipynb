{
  "nbformat": 4,
  "nbformat_minor": 0,
  "metadata": {
    "colab": {
      "provenance": [],
      "authorship_tag": "ABX9TyP7Eu0a8bq5cZQmNYOlI2XB",
      "include_colab_link": true
    },
    "kernelspec": {
      "name": "python3",
      "display_name": "Python 3"
    },
    "language_info": {
      "name": "python"
    }
  },
  "cells": [
    {
      "cell_type": "markdown",
      "metadata": {
        "id": "view-in-github",
        "colab_type": "text"
      },
      "source": [
        "<a href=\"https://colab.research.google.com/github/MaherFPS/Food_Intolerance_Analysis/blob/main/notebooks/01_Data_Extraction.ipynb\" target=\"_parent\"><img src=\"https://colab.research.google.com/assets/colab-badge.svg\" alt=\"Open In Colab\"/></a>"
      ]
    },
    {
      "cell_type": "code",
      "source": [
        "# Import necessary libraries\n",
        "import pandas as pd\n",
        "import numpy as np\n",
        "import os\n",
        "\n",
        "# Create directories if they don't exist\n",
        "!mkdir -p data/processed\n",
        "\n",
        "# Load raw data with appropriate encodings\n",
        "try:\n",
        "    fertilizers_df = pd.read_csv(\"data/raw/dataset.fertilizers.csv\", encoding='cp1252', errors='replace')\n",
        "    pesticides_df = pd.read_csv(\"data/raw/dataset.pesticides.csv\", encoding='utf-8', errors='replace')\n",
        "\n",
        "    print(\"Raw data loaded successfully\")\n",
        "except Exception as e:\n",
        "    print(f\"Error loading data: {e}\")\n",
        "\n",
        "# Clean fertilizers dataset\n",
        "def clean_fertilizers(df):\n",
        "    # Select relevant columns\n",
        "    year_cols = [col for col in df.columns if col.startswith('Y') and len(col) <= 6 and col[-1].isdigit()]\n",
        "    keep_cols = ['Area', 'Item', 'Element', 'Unit'] + year_cols\n",
        "\n",
        "    # Filter columns that actually exist in the dataframe\n",
        "    keep_cols = [col for col in keep_cols if col in df.columns]\n",
        "\n",
        "    df_clean = df[keep_cols].copy()\n",
        "\n",
        "    # Melt the dataframe for easier analysis\n",
        "    id_vars = [col for col in ['Area', 'Item', 'Element', 'Unit'] if col in df_clean.columns]\n",
        "    year_cols = [col for col in year_cols if col in df_clean.columns]\n",
        "\n",
        "    df_melted = pd.melt(\n",
        "        df_clean,\n",
        "        id_vars=id_vars,\n",
        "        value_vars=year_cols,\n",
        "        var_name='Year',\n",
        "        value_name='Value'\n",
        "    )\n",
        "\n",
        "    # Convert year column from 'Y2020' format to 2020\n",
        "    if 'Year' in df_melted.columns:\n",
        "        df_melted['Year'] = df_melted['Year'].str.replace('Y', '').astype(int)\n",
        "\n",
        "    # Handle missing values\n",
        "    df_melted = df_melted.sort_values(['Area', 'Year'])\n",
        "    df_melted['Value'] = df_melted.groupby(['Area'])['Value'].fillna(method='ffill')\n",
        "\n",
        "    return df_melted\n",
        "\n",
        "# Clean pesticides dataset\n",
        "def clean_pesticides(df):\n",
        "    # Similar cleaning logic as for fertilizers\n",
        "    year_cols = [col for col in df.columns if col.startswith('Y') and len(col) <= 6 and col[-1].isdigit()]\n",
        "    keep_cols = ['Area', 'Item', 'Element', 'Unit'] + year_cols\n",
        "\n",
        "    # Filter columns that actually exist in the dataframe\n",
        "    keep_cols = [col for col in keep_cols if col in df.columns]\n",
        "\n",
        "    df_clean = df[keep_cols].copy()\n",
        "\n",
        "    # Melt the dataframe for easier analysis\n",
        "    id_vars = [col for col in ['Area', 'Item', 'Element', 'Unit'] if col in df_clean.columns]\n",
        "    year_cols = [col for col in year_cols if col in df_clean.columns]\n",
        "\n",
        "    df_melted = pd.melt(\n",
        "        df_clean,\n",
        "        id_vars=id_vars,\n",
        "        value_vars=year_cols,\n",
        "        var_name='Year',\n",
        "        value_name='Value'\n",
        "    )\n",
        "\n",
        "    # Convert year column from 'Y2020' format to 2020\n",
        "    if 'Year' in df_melted.columns:\n",
        "        df_melted['Year'] = df_melted['Year'].str.replace('Y', '').astype(int)\n",
        "\n",
        "    # Handle missing values\n",
        "    df_melted = df_melted.sort_values(['Area', 'Year'])\n",
        "    df_melted['Value'] = df_melted.groupby(['Area'])['Value'].fillna(method='ffill')\n",
        "\n",
        "    return df_melted\n",
        "\n",
        "# Apply cleaning functions\n",
        "print(\"Cleaning datasets...\")\n",
        "fertilizers_clean = clean_fertilizers(fertilizers_df)\n",
        "pesticides_clean = clean_pesticides(pesticides_df)\n",
        "\n",
        "# Save cleaned data\n",
        "fertilizers_clean.to_csv(\"data/processed/fertilizers_clean.csv\", index=False)\n",
        "pesticides_clean.to_csv(\"data/processed/pesticides_clean.csv\", index=False)\n",
        "\n",
        "print(\"Cleaned data saved to data/processed/ directory\")\n",
        "\n",
        "# Display the first few rows of each cleaned dataset\n",
        "print(\"\\nCleaned fertilizers dataset preview:\")\n",
        "print(fertilizers_clean.head())\n",
        "\n",
        "print(\"\\nCleaned pesticides dataset preview:\")\n",
        "print(pesticides_clean.head())\n",
        "\n",
        "# Save this notebook to GitHub"
      ],
      "metadata": {
        "colab": {
          "base_uri": "https://localhost:8080/"
        },
        "id": "lA00905Wgahg",
        "outputId": "7df67dd3-d28b-45d7-9f0d-731d19eeef65"
      },
      "execution_count": null,
      "outputs": [
        {
          "output_type": "stream",
          "name": "stdout",
          "text": [
            "Error loading data: read_csv() got an unexpected keyword argument 'errors'\n",
            "Cleaning datasets...\n"
          ]
        },
        {
          "output_type": "stream",
          "name": "stderr",
          "text": [
            "<ipython-input-15-d7f5d5abe200>:47: FutureWarning: SeriesGroupBy.fillna is deprecated and will be removed in a future version. Use obj.ffill() or obj.bfill() for forward or backward filling instead. If you want to fill with a single value, use Series.fillna instead\n",
            "  df_melted['Value'] = df_melted.groupby(['Area'])['Value'].fillna(method='ffill')\n",
            "<ipython-input-15-d7f5d5abe200>:47: FutureWarning: Series.fillna with 'method' is deprecated and will raise in a future version. Use obj.ffill() or obj.bfill() instead.\n",
            "  df_melted['Value'] = df_melted.groupby(['Area'])['Value'].fillna(method='ffill')\n",
            "<ipython-input-15-d7f5d5abe200>:80: FutureWarning: SeriesGroupBy.fillna is deprecated and will be removed in a future version. Use obj.ffill() or obj.bfill() for forward or backward filling instead. If you want to fill with a single value, use Series.fillna instead\n",
            "  df_melted['Value'] = df_melted.groupby(['Area'])['Value'].fillna(method='ffill')\n",
            "<ipython-input-15-d7f5d5abe200>:80: FutureWarning: Series.fillna with 'method' is deprecated and will raise in a future version. Use obj.ffill() or obj.bfill() instead.\n",
            "  df_melted['Value'] = df_melted.groupby(['Area'])['Value'].fillna(method='ffill')\n"
          ]
        },
        {
          "output_type": "stream",
          "name": "stdout",
          "text": [
            "Cleaned data saved to data/processed/ directory\n",
            "\n",
            "Cleaned fertilizers dataset preview:\n",
            "          Area                         Item                   Element   Unit  \\\n",
            "0  Afghanistan  Nutrient nitrogen N (total)                Production      t   \n",
            "1  Afghanistan  Nutrient nitrogen N (total)           Import quantity      t   \n",
            "2  Afghanistan  Nutrient nitrogen N (total)           Export quantity      t   \n",
            "3  Afghanistan  Nutrient nitrogen N (total)          Agricultural Use      t   \n",
            "4  Afghanistan  Nutrient nitrogen N (total)  Use per area of cropland  kg/ha   \n",
            "\n",
            "   Year    Value  \n",
            "0  1961      NaN  \n",
            "1  1961  1000.00  \n",
            "2  1961  1000.00  \n",
            "3  1961  1000.00  \n",
            "4  1961     0.13  \n",
            "\n",
            "Cleaned pesticides dataset preview:\n",
            "        Area                Item                                   Element  \\\n",
            "4405  Africa  Pesticides (total)                          Agricultural Use   \n",
            "4406  Africa  Pesticides (total)                  Use per area of cropland   \n",
            "4407  Africa  Pesticides (total)                            Use per capita   \n",
            "4408  Africa  Pesticides (total)  Use per value of agricultural production   \n",
            "4409  Africa        Insecticides                          Agricultural Use   \n",
            "\n",
            "        Unit  Year     Value  \n",
            "4405       t  1990  73504.69  \n",
            "4406   kg/ha  1990      0.36  \n",
            "4407  kg/cap  1990      0.12  \n",
            "4408  g/Int$  1990      0.49  \n",
            "4409       t  1990  25425.20  \n"
          ]
        }
      ]
    }
  ]
}